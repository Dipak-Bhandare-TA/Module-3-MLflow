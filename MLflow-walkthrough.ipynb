{
 "cells": [
  {
   "cell_type": "code",
   "execution_count": 1,
   "id": "a1403bae-f022-47b7-8f09-970ede255f82",
   "metadata": {},
   "outputs": [],
   "source": [
    "import os \n",
    "import warnings\n",
    "import sys\n",
    "\n",
    "import pandas as pd\n",
    "import numpy as np\n",
    "import matplotlib.pyplot as plt \n",
    "import seaborn as sns\n",
    "\n",
    "\n"
   ]
  },
  {
   "cell_type": "code",
   "execution_count": 2,
   "id": "664d424c-240e-42d2-9206-ad0eeff210d9",
   "metadata": {},
   "outputs": [],
   "source": [
    "from sklearn.metrics import mean_squared_error , r2_score\n",
    "from sklearn.model_selection import train_test_split \n",
    "\n",
    "from sklearn.linear_model import LinearRegression"
   ]
  },
  {
   "cell_type": "code",
   "execution_count": 3,
   "id": "937d35c9-e491-4aff-aeb2-4492a7bcbbe4",
   "metadata": {},
   "outputs": [],
   "source": [
    "#  we are using the housing data \n",
    "#and we have already saved the training and testing data through previous excercise \n",
    "\n",
    "train_data_path = 'data/train.csv'\n",
    "test_data_path = 'data/test.csv'\n",
    "\n",
    "train_data = pd.read_csv(train_data_path)\n",
    "test_data = pd.read_csv(test_data_path)"
   ]
  },
  {
   "cell_type": "code",
   "execution_count": 4,
   "id": "a989d213-8685-493e-83b9-1c1c89249db1",
   "metadata": {},
   "outputs": [
    {
     "data": {
      "text/html": [
       "<div>\n",
       "<style scoped>\n",
       "    .dataframe tbody tr th:only-of-type {\n",
       "        vertical-align: middle;\n",
       "    }\n",
       "\n",
       "    .dataframe tbody tr th {\n",
       "        vertical-align: top;\n",
       "    }\n",
       "\n",
       "    .dataframe thead th {\n",
       "        text-align: right;\n",
       "    }\n",
       "</style>\n",
       "<table border=\"1\" class=\"dataframe\">\n",
       "  <thead>\n",
       "    <tr style=\"text-align: right;\">\n",
       "      <th></th>\n",
       "      <th>longitude</th>\n",
       "      <th>latitude</th>\n",
       "      <th>housing_median_age</th>\n",
       "      <th>total_rooms</th>\n",
       "      <th>total_bedrooms</th>\n",
       "      <th>population</th>\n",
       "      <th>households</th>\n",
       "      <th>median_income</th>\n",
       "      <th>median_house_value</th>\n",
       "      <th>rooms_per_household</th>\n",
       "      <th>bedrooms_per_room</th>\n",
       "      <th>population_per_household</th>\n",
       "      <th>ocean_proximity_INLAND</th>\n",
       "      <th>ocean_proximity_ISLAND</th>\n",
       "      <th>ocean_proximity_NEAR BAY</th>\n",
       "      <th>ocean_proximity_NEAR OCEAN</th>\n",
       "    </tr>\n",
       "  </thead>\n",
       "  <tbody>\n",
       "    <tr>\n",
       "      <th>0</th>\n",
       "      <td>-121.46</td>\n",
       "      <td>38.52</td>\n",
       "      <td>29.0</td>\n",
       "      <td>3873.0</td>\n",
       "      <td>797.0</td>\n",
       "      <td>2237.0</td>\n",
       "      <td>706.0</td>\n",
       "      <td>2.1736</td>\n",
       "      <td>72100.0</td>\n",
       "      <td>5.485836</td>\n",
       "      <td>0.205784</td>\n",
       "      <td>3.168555</td>\n",
       "      <td>True</td>\n",
       "      <td>False</td>\n",
       "      <td>False</td>\n",
       "      <td>False</td>\n",
       "    </tr>\n",
       "    <tr>\n",
       "      <th>1</th>\n",
       "      <td>-117.23</td>\n",
       "      <td>33.09</td>\n",
       "      <td>7.0</td>\n",
       "      <td>5320.0</td>\n",
       "      <td>855.0</td>\n",
       "      <td>2015.0</td>\n",
       "      <td>768.0</td>\n",
       "      <td>6.3373</td>\n",
       "      <td>279600.0</td>\n",
       "      <td>6.927083</td>\n",
       "      <td>0.160714</td>\n",
       "      <td>2.623698</td>\n",
       "      <td>False</td>\n",
       "      <td>False</td>\n",
       "      <td>False</td>\n",
       "      <td>True</td>\n",
       "    </tr>\n",
       "  </tbody>\n",
       "</table>\n",
       "</div>"
      ],
      "text/plain": [
       "   longitude  latitude  housing_median_age  total_rooms  total_bedrooms  \\\n",
       "0    -121.46     38.52                29.0       3873.0           797.0   \n",
       "1    -117.23     33.09                 7.0       5320.0           855.0   \n",
       "\n",
       "   population  households  median_income  median_house_value  \\\n",
       "0      2237.0       706.0         2.1736             72100.0   \n",
       "1      2015.0       768.0         6.3373            279600.0   \n",
       "\n",
       "   rooms_per_household  bedrooms_per_room  population_per_household  \\\n",
       "0             5.485836           0.205784                  3.168555   \n",
       "1             6.927083           0.160714                  2.623698   \n",
       "\n",
       "   ocean_proximity_INLAND  ocean_proximity_ISLAND  ocean_proximity_NEAR BAY  \\\n",
       "0                    True                   False                     False   \n",
       "1                   False                   False                     False   \n",
       "\n",
       "   ocean_proximity_NEAR OCEAN  \n",
       "0                       False  \n",
       "1                        True  "
      ]
     },
     "execution_count": 4,
     "metadata": {},
     "output_type": "execute_result"
    }
   ],
   "source": [
    "train_data.head(2)"
   ]
  },
  {
   "cell_type": "code",
   "execution_count": null,
   "id": "4973d567-b51b-47bf-a8ea-da984661406c",
   "metadata": {},
   "outputs": [],
   "source": []
  },
  {
   "cell_type": "code",
   "execution_count": 6,
   "id": "9b33fa74-0ccb-457f-8281-9fb3b5bc54a3",
   "metadata": {},
   "outputs": [],
   "source": [
    "import mlflow \n",
    "import mlflow.sklearn"
   ]
  },
  {
   "cell_type": "code",
   "execution_count": 187,
   "id": "ba005e0e-36f0-431b-848f-2c567c1f36a3",
   "metadata": {},
   "outputs": [],
   "source": [
    "# Setting up the server URL for the MLflow server that is running on our system\n",
    "\n",
    "remote_server_uri  = 'http://127.0.0.1:5000'\n",
    "\n",
    "mlflow.set_tracking_uri(remote_server_uri)"
   ]
  },
  {
   "cell_type": "code",
   "execution_count": 189,
   "id": "2577cd3b-828f-4cf9-bc51-8970ff9f0520",
   "metadata": {},
   "outputs": [
    {
     "data": {
      "text/plain": [
       "'http://127.0.0.1:5000'"
      ]
     },
     "execution_count": 189,
     "metadata": {},
     "output_type": "execute_result"
    }
   ],
   "source": [
    "#check weather it is set up or not \n",
    "\n",
    "mlflow.tracking.get_tracking_uri()"
   ]
  },
  {
   "cell_type": "code",
   "execution_count": 191,
   "id": "5d351cb7-3505-4bb9-abcc-fd60caedd885",
   "metadata": {},
   "outputs": [
    {
     "data": {
      "text/plain": [
       "<Experiment: artifact_location='mlflow-artifacts:/899675162326840953', creation_time=1722543858183, experiment_id='899675162326840953', last_update_time=1722543858183, lifecycle_stage='active', name='MLflow-walkthrough', tags={}>"
      ]
     },
     "execution_count": 191,
     "metadata": {},
     "output_type": "execute_result"
    }
   ],
   "source": [
    "# setting up the experiment \n",
    "exp_name  = \"MLflow-walkthrough\"\n",
    "mlflow.set_experiment(exp_name)"
   ]
  },
  {
   "cell_type": "code",
   "execution_count": 28,
   "id": "06e05e05-11e9-4a73-ad73-3206421274d9",
   "metadata": {},
   "outputs": [],
   "source": [
    "def load_data(train_data_path , test_data_path):\n",
    "    train_data = pd.read_csv(train_data_path)\n",
    "    test_data = pd.read_csv(test_data_path)\n",
    "\n",
    "    train_x = train_data.drop('median_house_value' , axis = 1)\n",
    "    train_y = train_data['median_house_value']\n",
    "\n",
    "    test_x = train_data.drop('median_house_value' , axis = 1)\n",
    "    test_y = train_data['median_house_value']\n",
    "\n",
    "    return train_x, train_y , test_x , test_y\n",
    "\n",
    "\n",
    "\n",
    "def eval_metric(actual , pred):\n",
    "    rmse = np.sqrt(mean_squared_error(actual , pred)) \n",
    "    r2 = r2_score(actual , pred)\n",
    "    return rmse , r2\n",
    "\n",
    "\n",
    "\n",
    "    "
   ]
  },
  {
   "cell_type": "code",
   "execution_count": 67,
   "id": "404d52a4-73e0-48ed-8db6-3e1ee552f036",
   "metadata": {},
   "outputs": [],
   "source": [
    "def train_model():\n",
    "    train_data_path = 'data/train.csv'\n",
    "    test_data_path = 'data/test.csv'\n",
    "\n",
    "    train_x , train_y , test_x , test_y = load_data(train_data_path  , test_data_path)\n",
    "    \n",
    "    run_name = \"Linear_Regression_Run\"\n",
    "\n",
    "    with mlflow.start_run(run_name = run_name) as run:\n",
    "\n",
    "        lr = LinearRegression()\n",
    "        lr.fit(train_x, train_y)\n",
    "\n",
    "        pred = lr.predict(train_x)\n",
    "\n",
    "        rmse  , r2 = eval_metric(train_y, pred)\n",
    "\n",
    "        bias  = lr.intercept_\n",
    "        weigths = lr.coef_\n",
    "\n",
    "\n",
    "\n",
    "        mlflow.log_param(\"Coeficient\" ,weigths )\n",
    "        mlflow.log_param(\"Intercept\" , bias)\n",
    "\n",
    "        mlflow.log_metric(\"RMSe_loss\" , rmse)\n",
    "        mlflow.log_metric(\"R2_score\" , r2)\n",
    "\n",
    "        mlflow.sklearn.log_model(lr, \"model\")\n",
    "        \n",
    "        \n",
    "\n",
    "    "
   ]
  },
  {
   "cell_type": "code",
   "execution_count": 69,
   "id": "3d040fdf-006f-43e3-9aa9-512a6d6eacbc",
   "metadata": {},
   "outputs": [],
   "source": [
    "train_model()"
   ]
  },
  {
   "cell_type": "markdown",
   "id": "c175707b-225f-419f-bd06-ddeeb7a2f52b",
   "metadata": {},
   "source": [
    "**Decision Tree**"
   ]
  },
  {
   "cell_type": "code",
   "execution_count": 81,
   "id": "8fa89118-c4a7-4eee-b2c5-e97622f59b91",
   "metadata": {},
   "outputs": [],
   "source": [
    "from sklearn.tree import DecisionTreeRegressor\n"
   ]
  },
  {
   "cell_type": "code",
   "execution_count": 139,
   "id": "2f326b9f-924e-4a2c-8b13-1a4cebb2299a",
   "metadata": {},
   "outputs": [],
   "source": [
    "def train_tree_model(max_depth = None ):\n",
    "    train_data_path = 'data/train.csv'\n",
    "    test_data_path = 'data/test.csv'\n",
    "\n",
    "    train_x , train_y , test_x , test_y = load_data(train_data_path  , test_data_path)\n",
    "\n",
    "    tree_model  = DecisionTreeRegressor(max_depth= max_depth )\n",
    "    \n",
    "    tree_model.fit(train_x , train_y)\n",
    "    pred = tree_model.predict(train_x)\n",
    "\n",
    "    rmse , r2 = eval_metric(train_y , pred)\n",
    "    \n",
    "    run_name  = \"Decision_Tree_depth:{}\".format(max_depth)\n",
    "\n",
    "    features = train_x.columns\n",
    "    feature_importnace = tree_model.feature_importances_\n",
    "    feature_importnace_tab = pd.DataFrame({\"feature\" : features , \"Importance\" : feature_importnace})\n",
    "    feature_importance_df = feature_importnace_tab.sort_values(by=\"Importance\", ascending=False) \n",
    "\n",
    "    with mlflow.start_run(run_name = run_name) as run:\n",
    "\n",
    "        mlflow.log_param(\"max_depth\" , max_depth)\n",
    "        \n",
    "        mlflow.log_metric(\"RMSe_loss\" , rmse)\n",
    "        mlflow.log_metric(\"R2_score\" , r2)\n",
    "\n",
    "        \n",
    "        mlflow.sklearn.log_model(tree_model, \"model\")\n",
    "        \n",
    "        feature_importance_file_path =  os.path.join(os.getcwd() , \"feature_importance_depth:{}.csv\".format(max_depth))\n",
    "        feature_importance_df.to_csv(feature_importance_file_path, index =False)\n",
    "        mlflow.log_artifact(feature_importance_csv_path)\n",
    "    \n",
    "    \n",
    "\n",
    "    "
   ]
  },
  {
   "cell_type": "code",
   "execution_count": 141,
   "id": "d20dcecb-246c-4f91-9196-858ec2383425",
   "metadata": {},
   "outputs": [],
   "source": [
    "train_tree_model()"
   ]
  },
  {
   "cell_type": "code",
   "execution_count": 143,
   "id": "e8d41e63-cb38-4584-ba9e-d2fae9365827",
   "metadata": {},
   "outputs": [],
   "source": [
    "train_tree_model(20)"
   ]
  },
  {
   "cell_type": "code",
   "execution_count": 145,
   "id": "3896a19c-1af6-467d-a72b-9a86ae8779d3",
   "metadata": {},
   "outputs": [],
   "source": [
    "train_tree_model(30)"
   ]
  },
  {
   "cell_type": "code",
   "execution_count": 193,
   "id": "5ed13965-e0c3-41f9-ab2b-583f54730087",
   "metadata": {},
   "outputs": [],
   "source": [
    "train_tree_model(32)"
   ]
  },
  {
   "cell_type": "code",
   "execution_count": null,
   "id": "02010015-28db-44c6-a09b-72effbfe0ee0",
   "metadata": {},
   "outputs": [],
   "source": []
  }
 ],
 "metadata": {
  "kernelspec": {
   "display_name": "Python 3 (ipykernel)",
   "language": "python",
   "name": "python3"
  },
  "language_info": {
   "codemirror_mode": {
    "name": "ipython",
    "version": 3
   },
   "file_extension": ".py",
   "mimetype": "text/x-python",
   "name": "python",
   "nbconvert_exporter": "python",
   "pygments_lexer": "ipython3",
   "version": "3.12.4"
  }
 },
 "nbformat": 4,
 "nbformat_minor": 5
}
